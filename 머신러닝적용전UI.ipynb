{
 "cells": [
  {
   "cell_type": "code",
   "execution_count": 3,
   "metadata": {},
   "outputs": [
    {
     "name": "stderr",
     "output_type": "stream",
     "text": [
      "C:\\Users\\82106\\AppData\\Local\\Temp\\ipykernel_7304\\1538333812.py:80: UserWarning: Glyph 54217 (\\N{HANGUL SYLLABLE PYEONG}) missing from font(s) DejaVu Sans.\n",
      "  plt.savefig(DATA_PATH + \"sentiment_chart.png\")  # 이미지 저장\n",
      "C:\\Users\\82106\\AppData\\Local\\Temp\\ipykernel_7304\\1538333812.py:80: UserWarning: Glyph 44512 (\\N{HANGUL SYLLABLE GYUN}) missing from font(s) DejaVu Sans.\n",
      "  plt.savefig(DATA_PATH + \"sentiment_chart.png\")  # 이미지 저장\n",
      "C:\\Users\\82106\\AppData\\Local\\Temp\\ipykernel_7304\\1538333812.py:80: UserWarning: Glyph 51452 (\\N{HANGUL SYLLABLE JU}) missing from font(s) DejaVu Sans.\n",
      "  plt.savefig(DATA_PATH + \"sentiment_chart.png\")  # 이미지 저장\n",
      "C:\\Users\\82106\\AppData\\Local\\Temp\\ipykernel_7304\\1538333812.py:80: UserWarning: Glyph 44032 (\\N{HANGUL SYLLABLE GA}) missing from font(s) DejaVu Sans.\n",
      "  plt.savefig(DATA_PATH + \"sentiment_chart.png\")  # 이미지 저장\n",
      "C:\\Users\\82106\\AppData\\Local\\Temp\\ipykernel_7304\\1538333812.py:80: UserWarning: Glyph 48320 (\\N{HANGUL SYLLABLE BYEON}) missing from font(s) DejaVu Sans.\n",
      "  plt.savefig(DATA_PATH + \"sentiment_chart.png\")  # 이미지 저장\n",
      "C:\\Users\\82106\\AppData\\Local\\Temp\\ipykernel_7304\\1538333812.py:80: UserWarning: Glyph 46041 (\\N{HANGUL SYLLABLE DONG}) missing from font(s) DejaVu Sans.\n",
      "  plt.savefig(DATA_PATH + \"sentiment_chart.png\")  # 이미지 저장\n",
      "C:\\Users\\82106\\AppData\\Local\\Temp\\ipykernel_7304\\1538333812.py:80: UserWarning: Glyph 44048 (\\N{HANGUL SYLLABLE GAM}) missing from font(s) DejaVu Sans.\n",
      "  plt.savefig(DATA_PATH + \"sentiment_chart.png\")  # 이미지 저장\n",
      "C:\\Users\\82106\\AppData\\Local\\Temp\\ipykernel_7304\\1538333812.py:80: UserWarning: Glyph 49457 (\\N{HANGUL SYLLABLE SEONG}) missing from font(s) DejaVu Sans.\n",
      "  plt.savefig(DATA_PATH + \"sentiment_chart.png\")  # 이미지 저장\n",
      "C:\\Users\\82106\\AppData\\Local\\Temp\\ipykernel_7304\\1538333812.py:80: UserWarning: Glyph 48516 (\\N{HANGUL SYLLABLE BUN}) missing from font(s) DejaVu Sans.\n",
      "  plt.savefig(DATA_PATH + \"sentiment_chart.png\")  # 이미지 저장\n",
      "C:\\Users\\82106\\AppData\\Local\\Temp\\ipykernel_7304\\1538333812.py:80: UserWarning: Glyph 49437 (\\N{HANGUL SYLLABLE SEOG}) missing from font(s) DejaVu Sans.\n",
      "  plt.savefig(DATA_PATH + \"sentiment_chart.png\")  # 이미지 저장\n",
      "C:\\Users\\82106\\AppData\\Local\\Temp\\ipykernel_7304\\1538333812.py:80: UserWarning: Glyph 44208 (\\N{HANGUL SYLLABLE GYEOL}) missing from font(s) DejaVu Sans.\n",
      "  plt.savefig(DATA_PATH + \"sentiment_chart.png\")  # 이미지 저장\n",
      "C:\\Users\\82106\\AppData\\Local\\Temp\\ipykernel_7304\\1538333812.py:80: UserWarning: Glyph 44284 (\\N{HANGUL SYLLABLE GWA}) missing from font(s) DejaVu Sans.\n",
      "  plt.savefig(DATA_PATH + \"sentiment_chart.png\")  # 이미지 저장\n",
      "C:\\Users\\82106\\AppData\\Local\\Temp\\ipykernel_7304\\1538333812.py:80: UserWarning: Glyph 48324 (\\N{HANGUL SYLLABLE BYEOL}) missing from font(s) DejaVu Sans.\n",
      "  plt.savefig(DATA_PATH + \"sentiment_chart.png\")  # 이미지 저장\n",
      "C:\\Users\\82106\\AppData\\Local\\Temp\\ipykernel_7304\\1538333812.py:80: UserWarning: Glyph 51473 (\\N{HANGUL SYLLABLE JUNG}) missing from font(s) DejaVu Sans.\n",
      "  plt.savefig(DATA_PATH + \"sentiment_chart.png\")  # 이미지 저장\n",
      "C:\\Users\\82106\\AppData\\Local\\Temp\\ipykernel_7304\\1538333812.py:80: UserWarning: Glyph 47549 (\\N{HANGUL SYLLABLE RIB}) missing from font(s) DejaVu Sans.\n",
      "  plt.savefig(DATA_PATH + \"sentiment_chart.png\")  # 이미지 저장\n"
     ]
    },
    {
     "name": "stdout",
     "output_type": "stream",
     "text": [
      "✅ 데이터 로드 완료!\n"
     ]
    },
    {
     "ename": "SystemExit",
     "evalue": "0",
     "output_type": "error",
     "traceback": [
      "An exception has occurred, use %tb to see the full traceback.\n",
      "\u001b[1;31mSystemExit\u001b[0m\u001b[1;31m:\u001b[0m 0\n"
     ]
    },
    {
     "name": "stderr",
     "output_type": "stream",
     "text": [
      "C:\\Users\\82106\\AppData\\Local\\Packages\\PythonSoftwareFoundation.Python.3.12_qbz5n2kfra8p0\\LocalCache\\local-packages\\Python312\\site-packages\\IPython\\core\\interactiveshell.py:3587: UserWarning: To exit: use 'exit', 'quit', or Ctrl-D.\n",
      "  warn(\"To exit: use 'exit', 'quit', or Ctrl-D.\", stacklevel=1)\n"
     ]
    }
   ],
   "source": [
    "import sys\n",
    "import pandas as pd\n",
    "import matplotlib.pyplot as plt\n",
    "import seaborn as sns\n",
    "from PyQt5.QtWidgets import QApplication, QWidget, QVBoxLayout, QPushButton, QLabel, QTableWidget, QTableWidgetItem\n",
    "from PyQt5.QtGui import QPixmap\n",
    "import os\n",
    "\n",
    "# ✅ 저장 경로 설정\n",
    "DATA_PATH = \"C:/pthon_basic/webcrolingProject/news_crawler_project/data/\"\n",
    "\n",
    "class StockSentimentApp(QWidget):\n",
    "    def __init__(self):\n",
    "        super().__init__()\n",
    "\n",
    "        # ✅ GUI 레이아웃 설정\n",
    "        self.setWindowTitle(\"뉴스 감성 분석 & 주가 데이터\")\n",
    "        self.setGeometry(100, 100, 800, 600)\n",
    "\n",
    "        layout = QVBoxLayout()\n",
    "\n",
    "        # ✅ 버튼 추가\n",
    "        self.load_data_btn = QPushButton(\"데이터 로드 & 분석\")\n",
    "        self.load_data_btn.clicked.connect(self.load_data)\n",
    "        layout.addWidget(self.load_data_btn)\n",
    "\n",
    "        # ✅ 데이터 테이블 추가\n",
    "        self.news_table = QTableWidget()\n",
    "        layout.addWidget(self.news_table)\n",
    "\n",
    "        # ✅ 그래프 표시용 라벨 추가\n",
    "        self.sentiment_chart_label = QLabel(\"감성 분석별 주가 변동\")\n",
    "        layout.addWidget(self.sentiment_chart_label)\n",
    "\n",
    "        self.sentiment_chart_image = QLabel()\n",
    "        layout.addWidget(self.sentiment_chart_image)\n",
    "\n",
    "        self.setLayout(layout)\n",
    "\n",
    "    def load_data(self):\n",
    "        \"\"\"✅ 데이터 로드 및 GUI 업데이트\"\"\"\n",
    "        try:\n",
    "            # ✅ 데이터 로드\n",
    "            df = pd.read_csv(DATA_PATH + \"merged_news_stock.csv\")\n",
    "\n",
    "            # ✅ 뉴스 테이블 업데이트\n",
    "            self.update_news_table(df)\n",
    "\n",
    "            # ✅ 감성 분석별 주가 변동 그래프 저장\n",
    "            self.plot_sentiment_vs_stock(df)\n",
    "\n",
    "            print(\"✅ 데이터 로드 완료!\")\n",
    "\n",
    "        except Exception as e:\n",
    "            print(f\"❌ 데이터 로드 중 오류 발생: {e}\")\n",
    "\n",
    "    def update_news_table(self, df):\n",
    "        \"\"\"✅ GUI 테이블에 뉴스 데이터 표시\"\"\"\n",
    "        self.news_table.setRowCount(min(10, len(df)))  # 최대 10개 행 표시\n",
    "        self.news_table.setColumnCount(5)  # 제목, 링크, 감성 분석, 날짜, 종가\n",
    "        self.news_table.setHorizontalHeaderLabels([\"제목\", \"링크\", \"감성 분석\", \"날짜\", \"종가\"])\n",
    "\n",
    "        for i in range(min(10, len(df))):\n",
    "            self.news_table.setItem(i, 0, QTableWidgetItem(df.iloc[i][\"제목\"]))\n",
    "            self.news_table.setItem(i, 1, QTableWidgetItem(df.iloc[i][\"링크\"]))\n",
    "            self.news_table.setItem(i, 2, QTableWidgetItem(df.iloc[i][\"감성 분석 결과\"]))\n",
    "            self.news_table.setItem(i, 3, QTableWidgetItem(str(df.iloc[i][\"날짜\"])))\n",
    "            self.news_table.setItem(i, 4, QTableWidgetItem(str(df.iloc[i][\"Close\"])))\n",
    "\n",
    "    def plot_sentiment_vs_stock(self, df):\n",
    "        \"\"\"✅ 감성 분석별 평균 주가 변동 그래프 생성\"\"\"\n",
    "        df[\"주가 변동\"] = df[\"Close\"] - df[\"Open\"]\n",
    "        sentiment_analysis = df.groupby(\"감성 분석 결과\")[\"주가 변동\"].mean()\n",
    "\n",
    "        plt.figure(figsize=(6, 4))\n",
    "        sentiment_analysis.plot(kind=\"bar\", color=[\"red\", \"gray\", \"green\"])\n",
    "        plt.title(\"감성 분석 결과별 평균 주가 변동\")\n",
    "        plt.xlabel(\"감성 분석 결과\")\n",
    "        plt.ylabel(\"평균 주가 변동 (Close - Open)\")\n",
    "        plt.savefig(DATA_PATH + \"sentiment_chart.png\")  # 이미지 저장\n",
    "        plt.close()\n",
    "\n",
    "        # ✅ 그래프 업데이트\n",
    "        pixmap = QPixmap(DATA_PATH + \"sentiment_chart.png\")\n",
    "        self.sentiment_chart_image.setPixmap(pixmap)\n",
    "\n",
    "if __name__ == \"__main__\":\n",
    "    app = QApplication(sys.argv)\n",
    "    window = StockSentimentApp()\n",
    "    window.show()\n",
    "    sys.exit(app.exec_())\n"
   ]
  },
  {
   "cell_type": "code",
   "execution_count": 2,
   "metadata": {},
   "outputs": [
    {
     "data": {
      "text/plain": [
       "0"
      ]
     },
     "execution_count": 2,
     "metadata": {},
     "output_type": "execute_result"
    }
   ],
   "source": [
    "import os\n",
    "os.system(\"pip install seaborn\")\n"
   ]
  },
  {
   "cell_type": "code",
   "execution_count": null,
   "metadata": {},
   "outputs": [],
   "source": []
  }
 ],
 "metadata": {
  "kernelspec": {
   "display_name": "Python 3",
   "language": "python",
   "name": "python3"
  },
  "language_info": {
   "codemirror_mode": {
    "name": "ipython",
    "version": 3
   },
   "file_extension": ".py",
   "mimetype": "text/x-python",
   "name": "python",
   "nbconvert_exporter": "python",
   "pygments_lexer": "ipython3",
   "version": "3.12.9"
  }
 },
 "nbformat": 4,
 "nbformat_minor": 2
}
