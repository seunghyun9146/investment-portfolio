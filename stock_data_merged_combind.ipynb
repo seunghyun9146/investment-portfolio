{
 "cells": [
  {
   "cell_type": "code",
   "execution_count": 2,
   "metadata": {},
   "outputs": [
    {
     "name": "stdout",
     "output_type": "stream",
     "text": [
      "📌 병합된 데이터 미리보기\n",
      "                            제목  \\\n",
      "0  금감원, 홈플러스 CP 등 개인 판매액 파악 나서   \n",
      "1   동서식품, 홈플러스 납품 재개…식품사 속속 복귀   \n",
      "\n",
      "                                                  링크  \\\n",
      "0  https://n.news.naver.com/mnews/article/422/000...   \n",
      "1  https://n.news.naver.com/mnews/article/018/000...   \n",
      "\n",
      "                                                  본문          날짜 감성 분석 결과  \\\n",
      "0  [연합뉴스 제공]홈플러스가 기업회생절차에 들어가면서 기업어음(CP)과 전자단기사채(...  2025-03-10       중립   \n",
      "1  대금지급 관련 협의 마무리, 12일부터 납품삼양·오뚜기·롯데웰푸드 등 잇따라 납품재...  2025-03-10       중립   \n",
      "\n",
      "         Date    Close     High      Low     Open    Volume  \n",
      "0  2025-03-10  53700.0  54800.0  53500.0  53500.0  12921670  \n",
      "1  2025-03-10  53700.0  54800.0  53500.0  53500.0  12921670  \n",
      "\n",
      "📌 병합된 데이터 컬럼 목록\n",
      "Index(['제목', '링크', '본문', '날짜', '감성 분석 결과', 'Date', 'Close', 'High', 'Low',\n",
      "       'Open', 'Volume'],\n",
      "      dtype='object')\n"
     ]
    }
   ],
   "source": [
    "import pandas as pd\n",
    "\n",
    "# ✅ 데이터 경로 설정\n",
    "DATA_PATH = \"C:/pthon_basic/webcrolingProject/news_crawler_project/data/\"\n",
    "\n",
    "# ✅ 병합된 데이터 로드\n",
    "df = pd.read_csv(DATA_PATH + \"merged_news_stock.csv\")\n",
    "\n",
    "# ✅ 데이터 미리보기\n",
    "print(\"📌 병합된 데이터 미리보기\")\n",
    "print(df.head())\n",
    "\n",
    "# ✅ 데이터 컬럼 확인\n",
    "print(\"\\n📌 병합된 데이터 컬럼 목록\")\n",
    "print(df.columns)\n"
   ]
  },
  {
   "cell_type": "code",
   "execution_count": null,
   "metadata": {},
   "outputs": [],
   "source": []
  }
 ],
 "metadata": {
  "kernelspec": {
   "display_name": "Python 3",
   "language": "python",
   "name": "python3"
  },
  "language_info": {
   "codemirror_mode": {
    "name": "ipython",
    "version": 3
   },
   "file_extension": ".py",
   "mimetype": "text/x-python",
   "name": "python",
   "nbconvert_exporter": "python",
   "pygments_lexer": "ipython3",
   "version": "3.12.9"
  }
 },
 "nbformat": 4,
 "nbformat_minor": 2
}
