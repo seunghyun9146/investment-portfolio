{
 "cells": [
  {
   "cell_type": "code",
   "execution_count": 1,
   "metadata": {},
   "outputs": [
    {
     "name": "stdout",
     "output_type": "stream",
     "text": [
      "총 뉴스 개수: 46\n"
     ]
    }
   ],
   "source": [
    "import pandas as pd\n",
    "import re\n",
    "\n",
    "# CSV 파일 로드\n",
    "df = pd.read_csv(\"C:/pthon_basic/webcrolingProject/news_crawler_project/data/naver_news.csv\")\n",
    "\n",
    "# 결측치 및 중복 제거\n",
    "df = df.dropna()\n",
    "df = df.drop_duplicates()\n",
    "\n",
    "# 텍스트 정제 함수 (특수문자 및 영어 제거)\n",
    "def clean_text(text):\n",
    "    text = re.sub(r\"[^가-힣\\s]\", \"\", str(text))  # 한글과 공백만 남김\n",
    "    return text.strip()\n",
    "\n",
    "# 뉴스 제목과 본문 정제\n",
    "df[\"제목\"] = df[\"제목\"].apply(clean_text)\n",
    "df[\"본문\"] = df[\"본문\"].apply(clean_text)\n",
    "\n",
    "# 정제된 데이터 저장\n",
    "df.to_csv(\"C:/pthon_basic/webcrolingProject/news_crawler_project/data/cleaned_naver_news.csv\", index=False)\n",
    "\n",
    "# 데이터 요약 출력\n",
    "print(f\"총 뉴스 개수: {len(df)}\")\n"
   ]
  },
  {
   "cell_type": "code",
   "execution_count": 7,
   "metadata": {},
   "outputs": [
    {
     "name": "stdout",
     "output_type": "stream",
     "text": [
      "원본 뉴스 개수: 46\n"
     ]
    }
   ],
   "source": [
    "# 원본 CSV 로드\n",
    "df_original = pd.read_csv(\"C:/pthon_basic/webcrolingProject/news_crawler_project/data/naver_news.csv\")\n",
    "\n",
    "# 원본 뉴스 개수 출력\n",
    "print(f\"원본 뉴스 개수: {len(df_original)}\")\n"
   ]
  },
  {
   "cell_type": "code",
   "execution_count": 10,
   "metadata": {},
   "outputs": [
    {
     "name": "stdout",
     "output_type": "stream",
     "text": [
      "         id                                           document  label\n",
      "0   9976970                                아 더빙.. 진짜 짜증나네요 목소리      0\n",
      "1   3819312                  흠...포스터보고 초딩영화줄....오버연기조차 가볍지 않구나      1\n",
      "2  10265843                                  너무재밓었다그래서보는것을추천한다      0\n",
      "3   9045019                      교도소 이야기구먼 ..솔직히 재미는 없다..평점 조정      0\n",
      "4   6483659  사이몬페그의 익살스런 연기가 돋보였던 영화!스파이더맨에서 늙어보이기만 했던 커스틴 ...      1\n",
      "        id                                           document  label\n",
      "0  6270596                                                굳 ㅋ      1\n",
      "1  9274899                               GDNTOPCLASSINTHECLUB      0\n",
      "2  8544678             뭐야 이 평점들은.... 나쁘진 않지만 10점 짜리는 더더욱 아니잖아      0\n",
      "3  6825595                   지루하지는 않은데 완전 막장임... 돈주고 보기에는....      0\n",
      "4  6723715  3D만 아니었어도 별 다섯 개 줬을텐데.. 왜 3D로 나와서 제 심기를 불편하게 하죠??      0\n"
     ]
    }
   ],
   "source": [
    "import pandas as pd\n",
    "\n",
    "# NSMC 데이터 로드 (정확한 경로로 수정!)\n",
    "train_df = pd.read_csv(\"C:/Users/82106/nsmc/ratings_train.txt\", sep='\\t')\n",
    "test_df = pd.read_csv(\"C:/Users/82106/nsmc/ratings_test.txt\", sep='\\t')\n",
    "\n",
    "# 데이터 샘플 확인\n",
    "print(train_df.head())\n",
    "print(test_df.head())\n"
   ]
  },
  {
   "cell_type": "code",
   "execution_count": null,
   "metadata": {},
   "outputs": [],
   "source": []
  }
 ],
 "metadata": {
  "kernelspec": {
   "display_name": "Python 3",
   "language": "python",
   "name": "python3"
  },
  "language_info": {
   "codemirror_mode": {
    "name": "ipython",
    "version": 3
   },
   "file_extension": ".py",
   "mimetype": "text/x-python",
   "name": "python",
   "nbconvert_exporter": "python",
   "pygments_lexer": "ipython3",
   "version": "3.12.9"
  }
 },
 "nbformat": 4,
 "nbformat_minor": 2
}
