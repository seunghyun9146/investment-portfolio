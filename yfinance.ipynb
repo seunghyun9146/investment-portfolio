{
 "cells": [
  {
   "cell_type": "code",
   "execution_count": 3,
   "metadata": {},
   "outputs": [
    {
     "name": "stderr",
     "output_type": "stream",
     "text": [
      "[*********************100%***********************]  1 of 1 completed"
     ]
    },
    {
     "name": "stdout",
     "output_type": "stream",
     "text": [
      "Price              Close          High           Low          Open    Volume\n",
      "Ticker         005930.KQ     005930.KQ     005930.KQ     005930.KQ 005930.KQ\n",
      "Date                                                                        \n",
      "2024-01-02  77916.609375  78112.379750  76546.216748  76546.216748  17142847\n",
      "2024-01-03  75371.593750  77133.527110  75371.593750  76839.871550  21753644\n",
      "2024-01-04  74980.054688  75665.251010  74490.628743  74490.628743  15324439\n",
      "2024-01-05  74980.054688  75469.480632  74784.284310  75077.939876  11304316\n",
      "2024-01-08  74882.171875  75861.023795  74784.286683  75371.597835  11088724\n",
      "✅ 주가 데이터 저장 완료!\n"
     ]
    },
    {
     "name": "stderr",
     "output_type": "stream",
     "text": [
      "\n"
     ]
    }
   ],
   "source": [
    "import yfinance as yf\n",
    "\n",
    "# 삼성전자 주가 데이터 가져오기\n",
    "stock_data = yf.download(\"005930.KQ\", start=\"2024-01-01\", end=\"2024-03-10\")\n",
    "\n",
    "# 데이터 확인\n",
    "print(stock_data.head())\n",
    "\n",
    "stock_data.to_csv(\"C:/pthon_basic/webcrolingProject/news_crawler_project/data/stock_data.csv\")\n",
    "\n",
    "print(\"✅ 주가 데이터 저장 완료!\")\n"
   ]
  },
  {
   "cell_type": "code",
   "execution_count": 9,
   "metadata": {},
   "outputs": [
    {
     "ename": "KeyError",
     "evalue": "'Date'",
     "output_type": "error",
     "traceback": [
      "\u001b[1;31m---------------------------------------------------------------------------\u001b[0m",
      "\u001b[1;31mKeyError\u001b[0m                                  Traceback (most recent call last)",
      "File \u001b[1;32m~\\AppData\\Local\\Packages\\PythonSoftwareFoundation.Python.3.12_qbz5n2kfra8p0\\LocalCache\\local-packages\\Python312\\site-packages\\pandas\\core\\indexes\\base.py:3805\u001b[0m, in \u001b[0;36mIndex.get_loc\u001b[1;34m(self, key)\u001b[0m\n\u001b[0;32m   3804\u001b[0m \u001b[38;5;28;01mtry\u001b[39;00m:\n\u001b[1;32m-> 3805\u001b[0m     \u001b[38;5;28;01mreturn\u001b[39;00m \u001b[38;5;28;43mself\u001b[39;49m\u001b[38;5;241;43m.\u001b[39;49m\u001b[43m_engine\u001b[49m\u001b[38;5;241;43m.\u001b[39;49m\u001b[43mget_loc\u001b[49m\u001b[43m(\u001b[49m\u001b[43mcasted_key\u001b[49m\u001b[43m)\u001b[49m\n\u001b[0;32m   3806\u001b[0m \u001b[38;5;28;01mexcept\u001b[39;00m \u001b[38;5;167;01mKeyError\u001b[39;00m \u001b[38;5;28;01mas\u001b[39;00m err:\n",
      "File \u001b[1;32mindex.pyx:167\u001b[0m, in \u001b[0;36mpandas._libs.index.IndexEngine.get_loc\u001b[1;34m()\u001b[0m\n",
      "File \u001b[1;32mindex.pyx:196\u001b[0m, in \u001b[0;36mpandas._libs.index.IndexEngine.get_loc\u001b[1;34m()\u001b[0m\n",
      "File \u001b[1;32mpandas\\\\_libs\\\\hashtable_class_helper.pxi:7081\u001b[0m, in \u001b[0;36mpandas._libs.hashtable.PyObjectHashTable.get_item\u001b[1;34m()\u001b[0m\n",
      "File \u001b[1;32mpandas\\\\_libs\\\\hashtable_class_helper.pxi:7089\u001b[0m, in \u001b[0;36mpandas._libs.hashtable.PyObjectHashTable.get_item\u001b[1;34m()\u001b[0m\n",
      "\u001b[1;31mKeyError\u001b[0m: 'Date'",
      "\nThe above exception was the direct cause of the following exception:\n",
      "\u001b[1;31mKeyError\u001b[0m                                  Traceback (most recent call last)",
      "Cell \u001b[1;32mIn[9], line 9\u001b[0m\n\u001b[0;32m      7\u001b[0m \u001b[38;5;66;03m# 날짜 형식 변환\u001b[39;00m\n\u001b[0;32m      8\u001b[0m news_df[\u001b[38;5;124m\"\u001b[39m\u001b[38;5;124m날짜\u001b[39m\u001b[38;5;124m\"\u001b[39m] \u001b[38;5;241m=\u001b[39m pd\u001b[38;5;241m.\u001b[39mto_datetime(news_df[\u001b[38;5;124m\"\u001b[39m\u001b[38;5;124m날짜\u001b[39m\u001b[38;5;124m\"\u001b[39m])\n\u001b[1;32m----> 9\u001b[0m stock_data[\u001b[38;5;124m\"\u001b[39m\u001b[38;5;124mDate\u001b[39m\u001b[38;5;124m\"\u001b[39m] \u001b[38;5;241m=\u001b[39m pd\u001b[38;5;241m.\u001b[39mto_datetime(\u001b[43mstock_data\u001b[49m\u001b[43m[\u001b[49m\u001b[38;5;124;43m\"\u001b[39;49m\u001b[38;5;124;43mDate\u001b[39;49m\u001b[38;5;124;43m\"\u001b[39;49m\u001b[43m]\u001b[49m)\n\u001b[0;32m     11\u001b[0m \u001b[38;5;66;03m# 뉴스와 주가 데이터 병합 (날짜 기준)\u001b[39;00m\n\u001b[0;32m     12\u001b[0m merged_df \u001b[38;5;241m=\u001b[39m pd\u001b[38;5;241m.\u001b[39mmerge(news_df, stock_data, left_on\u001b[38;5;241m=\u001b[39m\u001b[38;5;124m\"\u001b[39m\u001b[38;5;124m날짜\u001b[39m\u001b[38;5;124m\"\u001b[39m, right_on\u001b[38;5;241m=\u001b[39m\u001b[38;5;124m\"\u001b[39m\u001b[38;5;124mDate\u001b[39m\u001b[38;5;124m\"\u001b[39m, how\u001b[38;5;241m=\u001b[39m\u001b[38;5;124m\"\u001b[39m\u001b[38;5;124minner\u001b[39m\u001b[38;5;124m\"\u001b[39m)\n",
      "File \u001b[1;32m~\\AppData\\Local\\Packages\\PythonSoftwareFoundation.Python.3.12_qbz5n2kfra8p0\\LocalCache\\local-packages\\Python312\\site-packages\\pandas\\core\\frame.py:4102\u001b[0m, in \u001b[0;36mDataFrame.__getitem__\u001b[1;34m(self, key)\u001b[0m\n\u001b[0;32m   4100\u001b[0m \u001b[38;5;28;01mif\u001b[39;00m \u001b[38;5;28mself\u001b[39m\u001b[38;5;241m.\u001b[39mcolumns\u001b[38;5;241m.\u001b[39mnlevels \u001b[38;5;241m>\u001b[39m \u001b[38;5;241m1\u001b[39m:\n\u001b[0;32m   4101\u001b[0m     \u001b[38;5;28;01mreturn\u001b[39;00m \u001b[38;5;28mself\u001b[39m\u001b[38;5;241m.\u001b[39m_getitem_multilevel(key)\n\u001b[1;32m-> 4102\u001b[0m indexer \u001b[38;5;241m=\u001b[39m \u001b[38;5;28;43mself\u001b[39;49m\u001b[38;5;241;43m.\u001b[39;49m\u001b[43mcolumns\u001b[49m\u001b[38;5;241;43m.\u001b[39;49m\u001b[43mget_loc\u001b[49m\u001b[43m(\u001b[49m\u001b[43mkey\u001b[49m\u001b[43m)\u001b[49m\n\u001b[0;32m   4103\u001b[0m \u001b[38;5;28;01mif\u001b[39;00m is_integer(indexer):\n\u001b[0;32m   4104\u001b[0m     indexer \u001b[38;5;241m=\u001b[39m [indexer]\n",
      "File \u001b[1;32m~\\AppData\\Local\\Packages\\PythonSoftwareFoundation.Python.3.12_qbz5n2kfra8p0\\LocalCache\\local-packages\\Python312\\site-packages\\pandas\\core\\indexes\\base.py:3812\u001b[0m, in \u001b[0;36mIndex.get_loc\u001b[1;34m(self, key)\u001b[0m\n\u001b[0;32m   3807\u001b[0m     \u001b[38;5;28;01mif\u001b[39;00m \u001b[38;5;28misinstance\u001b[39m(casted_key, \u001b[38;5;28mslice\u001b[39m) \u001b[38;5;129;01mor\u001b[39;00m (\n\u001b[0;32m   3808\u001b[0m         \u001b[38;5;28misinstance\u001b[39m(casted_key, abc\u001b[38;5;241m.\u001b[39mIterable)\n\u001b[0;32m   3809\u001b[0m         \u001b[38;5;129;01mand\u001b[39;00m \u001b[38;5;28many\u001b[39m(\u001b[38;5;28misinstance\u001b[39m(x, \u001b[38;5;28mslice\u001b[39m) \u001b[38;5;28;01mfor\u001b[39;00m x \u001b[38;5;129;01min\u001b[39;00m casted_key)\n\u001b[0;32m   3810\u001b[0m     ):\n\u001b[0;32m   3811\u001b[0m         \u001b[38;5;28;01mraise\u001b[39;00m InvalidIndexError(key)\n\u001b[1;32m-> 3812\u001b[0m     \u001b[38;5;28;01mraise\u001b[39;00m \u001b[38;5;167;01mKeyError\u001b[39;00m(key) \u001b[38;5;28;01mfrom\u001b[39;00m\u001b[38;5;250m \u001b[39m\u001b[38;5;21;01merr\u001b[39;00m\n\u001b[0;32m   3813\u001b[0m \u001b[38;5;28;01mexcept\u001b[39;00m \u001b[38;5;167;01mTypeError\u001b[39;00m:\n\u001b[0;32m   3814\u001b[0m     \u001b[38;5;66;03m# If we have a listlike key, _check_indexing_error will raise\u001b[39;00m\n\u001b[0;32m   3815\u001b[0m     \u001b[38;5;66;03m#  InvalidIndexError. Otherwise we fall through and re-raise\u001b[39;00m\n\u001b[0;32m   3816\u001b[0m     \u001b[38;5;66;03m#  the TypeError.\u001b[39;00m\n\u001b[0;32m   3817\u001b[0m     \u001b[38;5;28mself\u001b[39m\u001b[38;5;241m.\u001b[39m_check_indexing_error(key)\n",
      "\u001b[1;31mKeyError\u001b[0m: 'Date'"
     ]
    }
   ],
   "source": [
    "# 뉴스 데이터 로드\n",
    "news_df = pd.read_csv(\"C:/pthon_basic/webcrolingProject/news_crawler_project/data/sentiment_naver_news.csv\")\n",
    "\n",
    "# 주가 데이터 로드\n",
    "stock_data = pd.read_csv(\"C:/pthon_basic/webcrolingProject/news_crawler_project/data/stock_data.csv\")\n",
    "\n",
    "# 날짜 형식 변환\n",
    "news_df[\"날짜\"] = pd.to_datetime(news_df[\"날짜\"])\n",
    "stock_data[\"Date\"] = pd.to_datetime(stock_data[\"Date\"])\n",
    "\n",
    "# 뉴스와 주가 데이터 병합 (날짜 기준)\n",
    "merged_df = pd.merge(news_df, stock_data, left_on=\"날짜\", right_on=\"Date\", how=\"inner\")\n",
    "\n",
    "# 결합된 데이터 저장\n",
    "merged_df.to_csv(\"C:/pthon_basic/webcrolingProject/news_crawler_project/data/merged_news_stock.csv\", index=False)\n",
    "\n",
    "print(\"✅ 뉴스 데이터와 주가 데이터 결합 완료!\")\n"
   ]
  },
  {
   "cell_type": "code",
   "execution_count": 13,
   "metadata": {},
   "outputs": [
    {
     "name": "stdout",
     "output_type": "stream",
     "text": [
      "Index(['Price', 'Close', 'High', 'Low', 'Open', 'Volume'], dtype='object')\n"
     ]
    }
   ],
   "source": [
    "# 날짜를 인덱스에서 컬럼으로 변환\n",
    "stock_data = pd.read_csv(\"C:/pthon_basic/webcrolingProject/news_crawler_project/data/stock_data.csv\", index_col=0)\n",
    "\n",
    "# 인덱스를 'Date' 컬럼으로 변환\n",
    "stock_data.reset_index(inplace=True)\n",
    "\n",
    "# 컬럼명 확인\n",
    "print(stock_data.columns)\n",
    "\n"
   ]
  },
  {
   "cell_type": "code",
   "execution_count": 15,
   "metadata": {},
   "outputs": [
    {
     "name": "stderr",
     "output_type": "stream",
     "text": [
      "[*********************100%***********************]  1 of 1 completed"
     ]
    },
    {
     "name": "stdout",
     "output_type": "stream",
     "text": [
      "Price        Date         Close          High           Low          Open  \\\n",
      "Ticker                005930.KQ     005930.KQ     005930.KQ     005930.KQ   \n",
      "0      2024-01-02  77916.609375  78112.379750  76546.216748  76546.216748   \n",
      "1      2024-01-03  75371.593750  77133.527110  75371.593750  76839.871550   \n",
      "2      2024-01-04  74980.054688  75665.251010  74490.628743  74490.628743   \n",
      "3      2024-01-05  74980.054688  75469.480632  74784.284310  75077.939876   \n",
      "4      2024-01-08  74882.171875  75861.023795  74784.286683  75371.597835   \n",
      "\n",
      "Price     Volume  \n",
      "Ticker 005930.KQ  \n",
      "0       17142847  \n",
      "1       21753644  \n",
      "2       15324439  \n",
      "3       11304316  \n",
      "4       11088724  \n",
      "MultiIndex([(  'Date',          ''),\n",
      "            ( 'Close', '005930.KQ'),\n",
      "            (  'High', '005930.KQ'),\n",
      "            (   'Low', '005930.KQ'),\n",
      "            (  'Open', '005930.KQ'),\n",
      "            ('Volume', '005930.KQ')],\n",
      "           names=['Price', 'Ticker'])\n"
     ]
    },
    {
     "name": "stderr",
     "output_type": "stream",
     "text": [
      "\n"
     ]
    }
   ],
   "source": [
    "import yfinance as yf\n",
    "import pandas as pd\n",
    "\n",
    "# 삼성전자(005930.KQ) 주가 데이터 가져오기\n",
    "stock_data = yf.download(\"005930.KQ\", start=\"2024-01-01\", end=\"2024-03-10\")\n",
    "\n",
    "# 날짜 인덱스를 컬럼으로 변환\n",
    "stock_data.reset_index(inplace=True)\n",
    "\n",
    "# 파일 저장 (날짜 컬럼 포함)\n",
    "stock_data.to_csv(\"C:/pthon_basic/webcrolingProject/news_crawler_project/data/stock_data.csv\", index=False)\n",
    "\n",
    "# 확인\n",
    "print(stock_data.head())\n",
    "print(stock_data.columns)\n"
   ]
  },
  {
   "cell_type": "code",
   "execution_count": 16,
   "metadata": {},
   "outputs": [
    {
     "name": "stderr",
     "output_type": "stream",
     "text": [
      "[*********************100%***********************]  1 of 1 completed"
     ]
    },
    {
     "name": "stdout",
     "output_type": "stream",
     "text": [
      "Price       Date         Close          High           Low          Open  \\\n",
      "0     2024-01-02  77916.609375  78112.379750  76546.216748  76546.216748   \n",
      "1     2024-01-03  75371.593750  77133.527110  75371.593750  76839.871550   \n",
      "2     2024-01-04  74980.054688  75665.251010  74490.628743  74490.628743   \n",
      "3     2024-01-05  74980.054688  75469.480632  74784.284310  75077.939876   \n",
      "4     2024-01-08  74882.171875  75861.023795  74784.286683  75371.597835   \n",
      "\n",
      "Price    Volume  \n",
      "0      17142847  \n",
      "1      21753644  \n",
      "2      15324439  \n",
      "3      11304316  \n",
      "4      11088724  \n",
      "Index(['Date', 'Close', 'High', 'Low', 'Open', 'Volume'], dtype='object', name='Price')\n"
     ]
    },
    {
     "name": "stderr",
     "output_type": "stream",
     "text": [
      "\n"
     ]
    }
   ],
   "source": [
    "import yfinance as yf\n",
    "import pandas as pd\n",
    "\n",
    "# 삼성전자 주가 데이터 가져오기\n",
    "stock_data = yf.download(\"005930.KQ\", start=\"2024-01-01\", end=\"2024-03-10\")\n",
    "\n",
    "# MultiIndex 문제 해결: 컬럼 이름을 단순화\n",
    "stock_data.columns = stock_data.columns.get_level_values(0)\n",
    "\n",
    "# 날짜 인덱스를 컬럼으로 변환\n",
    "stock_data.reset_index(inplace=True)\n",
    "\n",
    "# CSV 저장 (정상적인 'Date' 컬럼 포함)\n",
    "stock_data.to_csv(\"C:/pthon_basic/webcrolingProject/news_crawler_project/data/stock_data.csv\", index=False)\n",
    "\n",
    "# 컬럼명 확인\n",
    "print(stock_data.head())\n",
    "print(stock_data.columns)\n"
   ]
  },
  {
   "cell_type": "code",
   "execution_count": 17,
   "metadata": {},
   "outputs": [
    {
     "name": "stdout",
     "output_type": "stream",
     "text": [
      "✅ 뉴스 데이터와 주가 데이터 결합 완료!\n"
     ]
    }
   ],
   "source": [
    "import pandas as pd\n",
    "\n",
    "# 뉴스 데이터 로드\n",
    "news_df = pd.read_csv(\"C:/pthon_basic/webcrolingProject/news_crawler_project/data/sentiment_naver_news.csv\")\n",
    "\n",
    "# 주가 데이터 로드 (이제 'Date' 컬럼 포함됨)\n",
    "stock_data = pd.read_csv(\"C:/pthon_basic/webcrolingProject/news_crawler_project/data/stock_data.csv\")\n",
    "\n",
    "# 날짜 형식 변환 (날짜 비교 가능하도록 변환)\n",
    "news_df[\"날짜\"] = pd.to_datetime(news_df[\"날짜\"])\n",
    "stock_data[\"Date\"] = pd.to_datetime(stock_data[\"Date\"])\n",
    "\n",
    "# 뉴스와 주가 데이터 병합 (날짜 기준)\n",
    "merged_df = pd.merge(news_df, stock_data, left_on=\"날짜\", right_on=\"Date\", how=\"inner\")\n",
    "\n",
    "# 결합된 데이터 저장\n",
    "merged_df.to_csv(\"C:/pthon_basic/webcrolingProject/news_crawler_project/data/merged_news_stock.csv\", index=False)\n",
    "\n",
    "print(\"✅ 뉴스 데이터와 주가 데이터 결합 완료!\")\n"
   ]
  },
  {
   "cell_type": "code",
   "execution_count": 18,
   "metadata": {},
   "outputs": [
    {
     "name": "stdout",
     "output_type": "stream",
     "text": [
      "Empty DataFrame\n",
      "Columns: [제목, 링크, 본문, 감성 분석 결과, 날짜, Date, Close, High, Low, Open, Volume]\n",
      "Index: []\n",
      "<class 'pandas.core.frame.DataFrame'>\n",
      "RangeIndex: 0 entries\n",
      "Data columns (total 11 columns):\n",
      " #   Column    Non-Null Count  Dtype \n",
      "---  ------    --------------  ----- \n",
      " 0   제목        0 non-null      object\n",
      " 1   링크        0 non-null      object\n",
      " 2   본문        0 non-null      object\n",
      " 3   감성 분석 결과  0 non-null      object\n",
      " 4   날짜        0 non-null      object\n",
      " 5   Date      0 non-null      object\n",
      " 6   Close     0 non-null      object\n",
      " 7   High      0 non-null      object\n",
      " 8   Low       0 non-null      object\n",
      " 9   Open      0 non-null      object\n",
      " 10  Volume    0 non-null      object\n",
      "dtypes: object(11)\n",
      "memory usage: 132.0+ bytes\n",
      "None\n"
     ]
    }
   ],
   "source": [
    "import pandas as pd\n",
    "\n",
    "# 결합된 데이터 로드\n",
    "df = pd.read_csv(\"C:/pthon_basic/webcrolingProject/news_crawler_project/data/merged_news_stock.csv\")\n",
    "\n",
    "# 데이터 샘플 확인\n",
    "print(df.head())  # 상위 5개 데이터\n",
    "print(df.info())  # 데이터 타입 & 결측값 확인\n"
   ]
  },
  {
   "cell_type": "code",
   "execution_count": 21,
   "metadata": {},
   "outputs": [
    {
     "name": "stdout",
     "output_type": "stream",
     "text": [
      "✅ 뉴스 데이터와 주가 데이터 결합 완료!\n"
     ]
    }
   ],
   "source": [
    "# 뉴스 데이터 로드\n",
    "news_df = pd.read_csv(\"C:/pthon_basic/webcrolingProject/news_crawler_project/data/sentiment_naver_news.csv\")\n",
    "\n",
    "# 주가 데이터 로드\n",
    "stock_data = pd.read_csv(\"C:/pthon_basic/webcrolingProject/news_crawler_project/data/stock_data.csv\")\n",
    "\n",
    "# 날짜 형식 변환\n",
    "news_df[\"날짜\"] = pd.to_datetime(news_df[\"날짜\"])\n",
    "stock_data[\"Date\"] = pd.to_datetime(stock_data[\"Date\"])\n",
    "\n",
    "# 뉴스와 주가 데이터 병합 (날짜 기준)\n",
    "merged_df = pd.merge(news_df, stock_data, left_on=\"날짜\", right_on=\"Date\", how=\"inner\")\n",
    "\n",
    "# 결합된 데이터 저장\n",
    "merged_df.to_csv(\"C:/pthon_basic/webcrolingProject/news_crawler_project/data/merged_news_stock.csv\", index=False)\n",
    "\n",
    "print(\"✅ 뉴스 데이터와 주가 데이터 결합 완료!\")\n"
   ]
  },
  {
   "cell_type": "code",
   "execution_count": null,
   "metadata": {},
   "outputs": [],
   "source": []
  }
 ],
 "metadata": {
  "kernelspec": {
   "display_name": "Python 3",
   "language": "python",
   "name": "python3"
  },
  "language_info": {
   "codemirror_mode": {
    "name": "ipython",
    "version": 3
   },
   "file_extension": ".py",
   "mimetype": "text/x-python",
   "name": "python",
   "nbconvert_exporter": "python",
   "pygments_lexer": "ipython3",
   "version": "3.12.9"
  }
 },
 "nbformat": 4,
 "nbformat_minor": 2
}
