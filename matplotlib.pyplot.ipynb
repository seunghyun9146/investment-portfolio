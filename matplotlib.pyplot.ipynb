{
 "cells": [
  {
   "cell_type": "code",
   "execution_count": 4,
   "metadata": {},
   "outputs": [
    {
     "name": "stderr",
     "output_type": "stream",
     "text": [
      "C:\\Users\\82106\\AppData\\Local\\Packages\\PythonSoftwareFoundation.Python.3.12_qbz5n2kfra8p0\\LocalCache\\local-packages\\Python312\\site-packages\\IPython\\core\\pylabtools.py:170: UserWarning: Glyph 54217 (\\N{HANGUL SYLLABLE PYEONG}) missing from font(s) DejaVu Sans.\n",
      "  fig.canvas.print_figure(bytes_io, **kw)\n",
      "C:\\Users\\82106\\AppData\\Local\\Packages\\PythonSoftwareFoundation.Python.3.12_qbz5n2kfra8p0\\LocalCache\\local-packages\\Python312\\site-packages\\IPython\\core\\pylabtools.py:170: UserWarning: Glyph 44512 (\\N{HANGUL SYLLABLE GYUN}) missing from font(s) DejaVu Sans.\n",
      "  fig.canvas.print_figure(bytes_io, **kw)\n",
      "C:\\Users\\82106\\AppData\\Local\\Packages\\PythonSoftwareFoundation.Python.3.12_qbz5n2kfra8p0\\LocalCache\\local-packages\\Python312\\site-packages\\IPython\\core\\pylabtools.py:170: UserWarning: Glyph 51452 (\\N{HANGUL SYLLABLE JU}) missing from font(s) DejaVu Sans.\n",
      "  fig.canvas.print_figure(bytes_io, **kw)\n",
      "C:\\Users\\82106\\AppData\\Local\\Packages\\PythonSoftwareFoundation.Python.3.12_qbz5n2kfra8p0\\LocalCache\\local-packages\\Python312\\site-packages\\IPython\\core\\pylabtools.py:170: UserWarning: Glyph 44032 (\\N{HANGUL SYLLABLE GA}) missing from font(s) DejaVu Sans.\n",
      "  fig.canvas.print_figure(bytes_io, **kw)\n",
      "C:\\Users\\82106\\AppData\\Local\\Packages\\PythonSoftwareFoundation.Python.3.12_qbz5n2kfra8p0\\LocalCache\\local-packages\\Python312\\site-packages\\IPython\\core\\pylabtools.py:170: UserWarning: Glyph 48320 (\\N{HANGUL SYLLABLE BYEON}) missing from font(s) DejaVu Sans.\n",
      "  fig.canvas.print_figure(bytes_io, **kw)\n",
      "C:\\Users\\82106\\AppData\\Local\\Packages\\PythonSoftwareFoundation.Python.3.12_qbz5n2kfra8p0\\LocalCache\\local-packages\\Python312\\site-packages\\IPython\\core\\pylabtools.py:170: UserWarning: Glyph 46041 (\\N{HANGUL SYLLABLE DONG}) missing from font(s) DejaVu Sans.\n",
      "  fig.canvas.print_figure(bytes_io, **kw)\n",
      "C:\\Users\\82106\\AppData\\Local\\Packages\\PythonSoftwareFoundation.Python.3.12_qbz5n2kfra8p0\\LocalCache\\local-packages\\Python312\\site-packages\\IPython\\core\\pylabtools.py:170: UserWarning: Glyph 44048 (\\N{HANGUL SYLLABLE GAM}) missing from font(s) DejaVu Sans.\n",
      "  fig.canvas.print_figure(bytes_io, **kw)\n",
      "C:\\Users\\82106\\AppData\\Local\\Packages\\PythonSoftwareFoundation.Python.3.12_qbz5n2kfra8p0\\LocalCache\\local-packages\\Python312\\site-packages\\IPython\\core\\pylabtools.py:170: UserWarning: Glyph 49457 (\\N{HANGUL SYLLABLE SEONG}) missing from font(s) DejaVu Sans.\n",
      "  fig.canvas.print_figure(bytes_io, **kw)\n",
      "C:\\Users\\82106\\AppData\\Local\\Packages\\PythonSoftwareFoundation.Python.3.12_qbz5n2kfra8p0\\LocalCache\\local-packages\\Python312\\site-packages\\IPython\\core\\pylabtools.py:170: UserWarning: Glyph 48516 (\\N{HANGUL SYLLABLE BUN}) missing from font(s) DejaVu Sans.\n",
      "  fig.canvas.print_figure(bytes_io, **kw)\n",
      "C:\\Users\\82106\\AppData\\Local\\Packages\\PythonSoftwareFoundation.Python.3.12_qbz5n2kfra8p0\\LocalCache\\local-packages\\Python312\\site-packages\\IPython\\core\\pylabtools.py:170: UserWarning: Glyph 49437 (\\N{HANGUL SYLLABLE SEOG}) missing from font(s) DejaVu Sans.\n",
      "  fig.canvas.print_figure(bytes_io, **kw)\n",
      "C:\\Users\\82106\\AppData\\Local\\Packages\\PythonSoftwareFoundation.Python.3.12_qbz5n2kfra8p0\\LocalCache\\local-packages\\Python312\\site-packages\\IPython\\core\\pylabtools.py:170: UserWarning: Glyph 44208 (\\N{HANGUL SYLLABLE GYEOL}) missing from font(s) DejaVu Sans.\n",
      "  fig.canvas.print_figure(bytes_io, **kw)\n",
      "C:\\Users\\82106\\AppData\\Local\\Packages\\PythonSoftwareFoundation.Python.3.12_qbz5n2kfra8p0\\LocalCache\\local-packages\\Python312\\site-packages\\IPython\\core\\pylabtools.py:170: UserWarning: Glyph 44284 (\\N{HANGUL SYLLABLE GWA}) missing from font(s) DejaVu Sans.\n",
      "  fig.canvas.print_figure(bytes_io, **kw)\n",
      "C:\\Users\\82106\\AppData\\Local\\Packages\\PythonSoftwareFoundation.Python.3.12_qbz5n2kfra8p0\\LocalCache\\local-packages\\Python312\\site-packages\\IPython\\core\\pylabtools.py:170: UserWarning: Glyph 48324 (\\N{HANGUL SYLLABLE BYEOL}) missing from font(s) DejaVu Sans.\n",
      "  fig.canvas.print_figure(bytes_io, **kw)\n",
      "C:\\Users\\82106\\AppData\\Local\\Packages\\PythonSoftwareFoundation.Python.3.12_qbz5n2kfra8p0\\LocalCache\\local-packages\\Python312\\site-packages\\IPython\\core\\pylabtools.py:170: UserWarning: Glyph 44557 (\\N{HANGUL SYLLABLE GEUNG}) missing from font(s) DejaVu Sans.\n",
      "  fig.canvas.print_figure(bytes_io, **kw)\n",
      "C:\\Users\\82106\\AppData\\Local\\Packages\\PythonSoftwareFoundation.Python.3.12_qbz5n2kfra8p0\\LocalCache\\local-packages\\Python312\\site-packages\\IPython\\core\\pylabtools.py:170: UserWarning: Glyph 51221 (\\N{HANGUL SYLLABLE JEONG}) missing from font(s) DejaVu Sans.\n",
      "  fig.canvas.print_figure(bytes_io, **kw)\n",
      "C:\\Users\\82106\\AppData\\Local\\Packages\\PythonSoftwareFoundation.Python.3.12_qbz5n2kfra8p0\\LocalCache\\local-packages\\Python312\\site-packages\\IPython\\core\\pylabtools.py:170: UserWarning: Glyph 48512 (\\N{HANGUL SYLLABLE BU}) missing from font(s) DejaVu Sans.\n",
      "  fig.canvas.print_figure(bytes_io, **kw)\n",
      "C:\\Users\\82106\\AppData\\Local\\Packages\\PythonSoftwareFoundation.Python.3.12_qbz5n2kfra8p0\\LocalCache\\local-packages\\Python312\\site-packages\\IPython\\core\\pylabtools.py:170: UserWarning: Glyph 51473 (\\N{HANGUL SYLLABLE JUNG}) missing from font(s) DejaVu Sans.\n",
      "  fig.canvas.print_figure(bytes_io, **kw)\n",
      "C:\\Users\\82106\\AppData\\Local\\Packages\\PythonSoftwareFoundation.Python.3.12_qbz5n2kfra8p0\\LocalCache\\local-packages\\Python312\\site-packages\\IPython\\core\\pylabtools.py:170: UserWarning: Glyph 47549 (\\N{HANGUL SYLLABLE RIB}) missing from font(s) DejaVu Sans.\n",
      "  fig.canvas.print_figure(bytes_io, **kw)\n"
     ]
    },
    {
     "data": {
      "image/png": "[encoded data removed]",
      "text/plain": [
       "<Figure size 640x480 with 1 Axes>"
      ]
     },
     "metadata": {},
     "output_type": "display_data"
    }
   ],
   "source": [
    "import pandas as pd\n",
    "import matplotlib.pyplot as plt\n",
    "\n",
    "# 결합된 데이터 로드\n",
    "df = pd.read_csv(\"C:/pthon_basic/webcrolingProject/news_crawler_project/data/merged_news_stock.csv\")\n",
    "\n",
    "# 주가 변동 계산 (종가 - 시가)\n",
    "df[\"주가 변동\"] = df[\"Close\"] - df[\"Open\"]\n",
    "\n",
    "# 감성 분석 결과별 주가 변동 평균 계산\n",
    "sentiment_analysis = df.groupby(\"감성 분석 결과\")[\"주가 변동\"].mean()\n",
    "\n",
    "# 그래프 출력\n",
    "sentiment_analysis.plot(kind=\"bar\", color=[\"red\", \"gray\", \"green\"])\n",
    "plt.title(\"감성 분석 결과별 평균 주가 변동\")\n",
    "plt.xlabel(\"감성 분석 결과\")\n",
    "plt.ylabel(\"평균 주가 변동 (Close - Open)\")\n",
    "plt.show()\n"
   ]
  },
  {
   "cell_type": "code",
   "execution_count": 7,
   "metadata": {},
   "outputs": [
    {
     "name": "stdout",
     "output_type": "stream",
     "text": [
      "감성 분석 결과\n",
      "긍정    489.425946\n",
      "부정    489.425946\n",
      "중립    489.425946\n",
      "Name: 주가 변동, dtype: float64\n",
      "감성 분석 결과\n",
      "중립    35\n",
      "부정     6\n",
      "긍정     5\n",
      "Name: count, dtype: int64\n"
     ]
    }
   ],
   "source": [
    "import pandas as pd\n",
    "\n",
    "# 결합된 데이터 로드\n",
    "df = pd.read_csv(\"C:/pthon_basic/webcrolingProject/news_crawler_project/data/merged_news_stock.csv\")\n",
    "\n",
    "# '주가 변동' 컬럼 추가\n",
    "df[\"주가 변동\"] = df[\"Close\"] - df[\"Open\"]\n",
    "\n",
    "# 감성별 주가 변동 평균 출력\n",
    "print(df.groupby(\"감성 분석 결과\")[\"주가 변동\"].mean())\n",
    "\n",
    "# 감성별 뉴스 개수 확인\n",
    "print(df[\"감성 분석 결과\"].value_counts())\n"
   ]
  },
  {
   "cell_type": "code",
   "execution_count": 8,
   "metadata": {},
   "outputs": [
    {
     "name": "stdout",
     "output_type": "stream",
     "text": [
      "✅ 감성 분석 완료! (저장 경로: data/sentiment_naver_news.csv)\n"
     ]
    }
   ],
   "source": [
    "import pandas as pd\n",
    "\n",
    "# ✅ 데이터 경로 설정\n",
    "DATA_PATH = \"C:/pthon_basic/webcrolingProject/news_crawler_project/data/\"\n",
    "\n",
    "# ✅ 뉴스 데이터 로드\n",
    "news_df = pd.read_csv(DATA_PATH + \"naver_news.csv\")\n",
    "\n",
    "# ✅ 감성 분석 함수 (간단한 예시, 더 발전 가능!)\n",
    "def get_sentiment(text):\n",
    "    if \"상승\" in text or \"호재\" in text or \"성공\" in text or \"강세\" in text:\n",
    "        return \"긍정\"\n",
    "    elif \"하락\" in text or \"악재\" in text or \"실패\" in text or \"약세\" in text:\n",
    "        return \"부정\"\n",
    "    else:\n",
    "        return \"중립\"\n",
    "\n",
    "# ✅ 감성 분석 적용\n",
    "news_df[\"감성 분석 결과\"] = news_df[\"본문\"].apply(get_sentiment)\n",
    "\n",
    "# ✅ 감성 분석된 뉴스 데이터 저장\n",
    "news_df.to_csv(DATA_PATH + \"sentiment_naver_news.csv\", index=False)\n",
    "\n",
    "print(\"✅ 감성 분석 완료! (저장 경로: data/sentiment_naver_news.csv)\")\n"
   ]
  },
  {
   "cell_type": "code",
   "execution_count": 9,
   "metadata": {},
   "outputs": [
    {
     "name": "stdout",
     "output_type": "stream",
     "text": [
      "✅ 뉴스 데이터와 주가 데이터 결합 완료! (저장 경로: data/merged_news_stock.csv)\n"
     ]
    }
   ],
   "source": [
    "# ✅ 데이터 로드\n",
    "news_df = pd.read_csv(DATA_PATH + \"sentiment_naver_news.csv\")\n",
    "stock_data = pd.read_csv(DATA_PATH + \"stock_data.csv\")\n",
    "\n",
    "# ✅ 날짜 형식 변환\n",
    "news_df[\"날짜\"] = pd.to_datetime(news_df[\"날짜\"])\n",
    "stock_data[\"Date\"] = pd.to_datetime(stock_data[\"Date\"])\n",
    "\n",
    "# ✅ 뉴스와 주가 데이터 병합 (날짜 기준)\n",
    "merged_df = pd.merge(news_df, stock_data, left_on=\"날짜\", right_on=\"Date\", how=\"inner\")\n",
    "\n",
    "# ✅ 결합된 데이터 저장\n",
    "merged_df.to_csv(DATA_PATH + \"merged_news_stock.csv\", index=False)\n",
    "\n",
    "print(\"✅ 뉴스 데이터와 주가 데이터 결합 완료! (저장 경로: data/merged_news_stock.csv)\")\n"
   ]
  },
  {
   "cell_type": "code",
   "execution_count": 10,
   "metadata": {},
   "outputs": [
    {
     "name": "stdout",
     "output_type": "stream",
     "text": [
      "📅 뉴스 데이터 날짜 범위: 2025.03.10. ~ 2025.03.11.\n",
      "📅 주가 데이터 날짜 범위: 2024-01-02 ~ 2024-03-08\n"
     ]
    }
   ],
   "source": [
    "import pandas as pd\n",
    "\n",
    "# ✅ 데이터 로드\n",
    "DATA_PATH = \"C:/pthon_basic/webcrolingProject/news_crawler_project/data/\"\n",
    "news_df = pd.read_csv(DATA_PATH + \"sentiment_naver_news.csv\")\n",
    "stock_data = pd.read_csv(DATA_PATH + \"stock_data.csv\")\n",
    "\n",
    "# ✅ 날짜 범위 출력\n",
    "print(\"📅 뉴스 데이터 날짜 범위:\", news_df[\"날짜\"].min(), \"~\", news_df[\"날짜\"].max())\n",
    "print(\"📅 주가 데이터 날짜 범위:\", stock_data[\"Date\"].min(), \"~\", stock_data[\"Date\"].max())\n"
   ]
  },
  {
   "cell_type": "code",
   "execution_count": 11,
   "metadata": {},
   "outputs": [
    {
     "name": "stdout",
     "output_type": "stream",
     "text": [
      "YF.download() has changed argument auto_adjust default to True\n"
     ]
    },
    {
     "name": "stderr",
     "output_type": "stream",
     "text": [
      "[*********************100%***********************]  1 of 1 completed"
     ]
    },
    {
     "name": "stdout",
     "output_type": "stream",
     "text": [
      "✅ 2025년 주가 데이터 다운로드 완료! (저장 경로: data/stock_data.csv)\n"
     ]
    },
    {
     "name": "stderr",
     "output_type": "stream",
     "text": [
      "\n"
     ]
    }
   ],
   "source": [
    "import yfinance as yf\n",
    "import pandas as pd\n",
    "\n",
    "# ✅ 삼성전자(005930.KQ) 주가 데이터 가져오기 (2025년)\n",
    "stock_data = yf.download(\"005930.KQ\", start=\"2025-01-01\", end=\"2025-03-11\")\n",
    "\n",
    "# ✅ 날짜 인덱스를 컬럼으로 변환\n",
    "stock_data.reset_index(inplace=True)\n",
    "\n",
    "# ✅ 데이터 저장\n",
    "DATA_PATH = \"C:/pthon_basic/webcrolingProject/news_crawler_project/data/\"\n",
    "stock_data.to_csv(DATA_PATH + \"stock_data.csv\", index=False)\n",
    "\n",
    "print(\"✅ 2025년 주가 데이터 다운로드 완료! (저장 경로: data/stock_data.csv)\")\n"
   ]
  },
  {
   "cell_type": "code",
   "execution_count": 12,
   "metadata": {},
   "outputs": [
    {
     "name": "stdout",
     "output_type": "stream",
     "text": [
      "✅ 뉴스 데이터와 주가 데이터 결합 완료! (저장 경로: data/merged_news_stock.csv)\n",
      "🔍 병합된 데이터 개수: 2\n"
     ]
    }
   ],
   "source": [
    "# ✅ 데이터 로드\n",
    "news_df = pd.read_csv(DATA_PATH + \"sentiment_naver_news.csv\")\n",
    "stock_data = pd.read_csv(DATA_PATH + \"stock_data.csv\")\n",
    "\n",
    "# ✅ 날짜 형식 변환\n",
    "news_df[\"날짜\"] = pd.to_datetime(news_df[\"날짜\"])\n",
    "stock_data[\"Date\"] = pd.to_datetime(stock_data[\"Date\"])\n",
    "\n",
    "# ✅ 뉴스와 주가 데이터 병합 (날짜 기준)\n",
    "merged_df = pd.merge(news_df, stock_data, left_on=\"날짜\", right_on=\"Date\", how=\"inner\")\n",
    "\n",
    "# ✅ 결합된 데이터 저장\n",
    "merged_df.to_csv(DATA_PATH + \"merged_news_stock.csv\", index=False)\n",
    "\n",
    "print(\"✅ 뉴스 데이터와 주가 데이터 결합 완료! (저장 경로: data/merged_news_stock.csv)\")\n",
    "print(\"🔍 병합된 데이터 개수:\", len(merged_df))\n"
   ]
  },
  {
   "cell_type": "code",
   "execution_count": 13,
   "metadata": {},
   "outputs": [
    {
     "name": "stderr",
     "output_type": "stream",
     "text": [
      "C:\\Users\\82106\\AppData\\Local\\Packages\\PythonSoftwareFoundation.Python.3.12_qbz5n2kfra8p0\\LocalCache\\local-packages\\Python312\\site-packages\\IPython\\core\\pylabtools.py:170: UserWarning: Glyph 54217 (\\N{HANGUL SYLLABLE PYEONG}) missing from font(s) DejaVu Sans.\n",
      "  fig.canvas.print_figure(bytes_io, **kw)\n",
      "C:\\Users\\82106\\AppData\\Local\\Packages\\PythonSoftwareFoundation.Python.3.12_qbz5n2kfra8p0\\LocalCache\\local-packages\\Python312\\site-packages\\IPython\\core\\pylabtools.py:170: UserWarning: Glyph 44512 (\\N{HANGUL SYLLABLE GYUN}) missing from font(s) DejaVu Sans.\n",
      "  fig.canvas.print_figure(bytes_io, **kw)\n",
      "C:\\Users\\82106\\AppData\\Local\\Packages\\PythonSoftwareFoundation.Python.3.12_qbz5n2kfra8p0\\LocalCache\\local-packages\\Python312\\site-packages\\IPython\\core\\pylabtools.py:170: UserWarning: Glyph 51452 (\\N{HANGUL SYLLABLE JU}) missing from font(s) DejaVu Sans.\n",
      "  fig.canvas.print_figure(bytes_io, **kw)\n",
      "C:\\Users\\82106\\AppData\\Local\\Packages\\PythonSoftwareFoundation.Python.3.12_qbz5n2kfra8p0\\LocalCache\\local-packages\\Python312\\site-packages\\IPython\\core\\pylabtools.py:170: UserWarning: Glyph 44032 (\\N{HANGUL SYLLABLE GA}) missing from font(s) DejaVu Sans.\n",
      "  fig.canvas.print_figure(bytes_io, **kw)\n",
      "C:\\Users\\82106\\AppData\\Local\\Packages\\PythonSoftwareFoundation.Python.3.12_qbz5n2kfra8p0\\LocalCache\\local-packages\\Python312\\site-packages\\IPython\\core\\pylabtools.py:170: UserWarning: Glyph 48320 (\\N{HANGUL SYLLABLE BYEON}) missing from font(s) DejaVu Sans.\n",
      "  fig.canvas.print_figure(bytes_io, **kw)\n",
      "C:\\Users\\82106\\AppData\\Local\\Packages\\PythonSoftwareFoundation.Python.3.12_qbz5n2kfra8p0\\LocalCache\\local-packages\\Python312\\site-packages\\IPython\\core\\pylabtools.py:170: UserWarning: Glyph 46041 (\\N{HANGUL SYLLABLE DONG}) missing from font(s) DejaVu Sans.\n",
      "  fig.canvas.print_figure(bytes_io, **kw)\n",
      "C:\\Users\\82106\\AppData\\Local\\Packages\\PythonSoftwareFoundation.Python.3.12_qbz5n2kfra8p0\\LocalCache\\local-packages\\Python312\\site-packages\\IPython\\core\\pylabtools.py:170: UserWarning: Glyph 44048 (\\N{HANGUL SYLLABLE GAM}) missing from font(s) DejaVu Sans.\n",
      "  fig.canvas.print_figure(bytes_io, **kw)\n",
      "C:\\Users\\82106\\AppData\\Local\\Packages\\PythonSoftwareFoundation.Python.3.12_qbz5n2kfra8p0\\LocalCache\\local-packages\\Python312\\site-packages\\IPython\\core\\pylabtools.py:170: UserWarning: Glyph 49457 (\\N{HANGUL SYLLABLE SEONG}) missing from font(s) DejaVu Sans.\n",
      "  fig.canvas.print_figure(bytes_io, **kw)\n",
      "C:\\Users\\82106\\AppData\\Local\\Packages\\PythonSoftwareFoundation.Python.3.12_qbz5n2kfra8p0\\LocalCache\\local-packages\\Python312\\site-packages\\IPython\\core\\pylabtools.py:170: UserWarning: Glyph 48516 (\\N{HANGUL SYLLABLE BUN}) missing from font(s) DejaVu Sans.\n",
      "  fig.canvas.print_figure(bytes_io, **kw)\n",
      "C:\\Users\\82106\\AppData\\Local\\Packages\\PythonSoftwareFoundation.Python.3.12_qbz5n2kfra8p0\\LocalCache\\local-packages\\Python312\\site-packages\\IPython\\core\\pylabtools.py:170: UserWarning: Glyph 49437 (\\N{HANGUL SYLLABLE SEOG}) missing from font(s) DejaVu Sans.\n",
      "  fig.canvas.print_figure(bytes_io, **kw)\n",
      "C:\\Users\\82106\\AppData\\Local\\Packages\\PythonSoftwareFoundation.Python.3.12_qbz5n2kfra8p0\\LocalCache\\local-packages\\Python312\\site-packages\\IPython\\core\\pylabtools.py:170: UserWarning: Glyph 44208 (\\N{HANGUL SYLLABLE GYEOL}) missing from font(s) DejaVu Sans.\n",
      "  fig.canvas.print_figure(bytes_io, **kw)\n",
      "C:\\Users\\82106\\AppData\\Local\\Packages\\PythonSoftwareFoundation.Python.3.12_qbz5n2kfra8p0\\LocalCache\\local-packages\\Python312\\site-packages\\IPython\\core\\pylabtools.py:170: UserWarning: Glyph 44284 (\\N{HANGUL SYLLABLE GWA}) missing from font(s) DejaVu Sans.\n",
      "  fig.canvas.print_figure(bytes_io, **kw)\n",
      "C:\\Users\\82106\\AppData\\Local\\Packages\\PythonSoftwareFoundation.Python.3.12_qbz5n2kfra8p0\\LocalCache\\local-packages\\Python312\\site-packages\\IPython\\core\\pylabtools.py:170: UserWarning: Glyph 48324 (\\N{HANGUL SYLLABLE BYEOL}) missing from font(s) DejaVu Sans.\n",
      "  fig.canvas.print_figure(bytes_io, **kw)\n",
      "C:\\Users\\82106\\AppData\\Local\\Packages\\PythonSoftwareFoundation.Python.3.12_qbz5n2kfra8p0\\LocalCache\\local-packages\\Python312\\site-packages\\IPython\\core\\pylabtools.py:170: UserWarning: Glyph 51473 (\\N{HANGUL SYLLABLE JUNG}) missing from font(s) DejaVu Sans.\n",
      "  fig.canvas.print_figure(bytes_io, **kw)\n",
      "C:\\Users\\82106\\AppData\\Local\\Packages\\PythonSoftwareFoundation.Python.3.12_qbz5n2kfra8p0\\LocalCache\\local-packages\\Python312\\site-packages\\IPython\\core\\pylabtools.py:170: UserWarning: Glyph 47549 (\\N{HANGUL SYLLABLE RIB}) missing from font(s) DejaVu Sans.\n",
      "  fig.canvas.print_figure(bytes_io, **kw)\n"
     ]
    },
    {
     "data": {
      "image/png": "[encoded data removed]",
      "text/plain": [
       "<Figure size 640x480 with 1 Axes>"
      ]
     },
     "metadata": {},
     "output_type": "display_data"
    }
   ],
   "source": [
    "import matplotlib.pyplot as plt\n",
    "\n",
    "# ✅ 데이터 로드\n",
    "DATA_PATH = \"C:/pthon_basic/webcrolingProject/news_crawler_project/data/\"\n",
    "df = pd.read_csv(DATA_PATH + \"merged_news_stock.csv\")\n",
    "\n",
    "# ✅ 주가 변동 계산 (종가 - 시가)\n",
    "df[\"주가 변동\"] = df[\"Close\"] - df[\"Open\"]\n",
    "\n",
    "# ✅ 감성 분석 결과별 평균 주가 변동 계산\n",
    "sentiment_analysis = df.groupby(\"감성 분석 결과\")[\"주가 변동\"].mean()\n",
    "\n",
    "# ✅ 그래프 출력\n",
    "sentiment_analysis.plot(kind=\"bar\", color=[\"red\", \"gray\", \"green\"])\n",
    "plt.title(\"감성 분석 결과별 평균 주가 변동\")\n",
    "plt.xlabel(\"감성 분석 결과\")\n",
    "plt.ylabel(\"평균 주가 변동 (Close - Open)\")\n",
    "plt.show()\n"
   ]
  },
  {
   "cell_type": "code",
   "execution_count": null,
   "metadata": {},
   "outputs": [],
   "source": []
  }
 ],
 "metadata": {
  "kernelspec": {
   "display_name": "Python 3",
   "language": "python",
   "name": "python3"
  },
  "language_info": {
   "codemirror_mode": {
    "name": "ipython",
    "version": 3
   },
   "file_extension": ".py",
   "mimetype": "text/x-python",
   "name": "python",
   "nbconvert_exporter": "python",
   "pygments_lexer": "ipython3",
   "version": "3.12.9"
  }
 },
 "nbformat": 4,
 "nbformat_minor": 2
}
